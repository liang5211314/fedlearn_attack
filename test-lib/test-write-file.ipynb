{
 "cells": [
  {
   "cell_type": "code",
   "execution_count": 13,
   "metadata": {},
   "outputs": [
    {
     "name": "stdout",
     "output_type": "stream",
     "text": [
      "840 <class 'str'>\n",
      "fl_total_participants: 100 fl_no_models: 10 fl_dirichlet_alpha: 0.5 fl_number_of_adversaries: 4 fl_lr: 0.05\n",
      "python training.py --name cifar10 --params /home/vishc2/tuannm/fedlearn-backdoor-attacks/exps/run_cifar10__2023.Nov.24/cifar10_fed_100_10_4_0.5_0.05.yaml\n",
      "------------------------\n",
      "fl_total_participants: 200 fl_no_models: 10 fl_dirichlet_alpha: 0.5 fl_number_of_adversaries: 4 fl_lr: 0.05\n",
      "python training.py --name cifar10 --params /home/vishc2/tuannm/fedlearn-backdoor-attacks/exps/run_cifar10__2023.Nov.24/cifar10_fed_200_10_4_0.5_0.05.yaml\n",
      "------------------------\n",
      "796 <class 'str'>\n",
      "fl_total_participants: 100 fl_no_models: 10 fl_dirichlet_alpha: 0.5 fl_number_of_adversaries: 4 fl_lr: 0.05\n",
      "python training.py --name mnist --params /home/vishc2/tuannm/fedlearn-backdoor-attacks/exps/run_mnist__2023.Nov.24/mnist_fed_100_10_4_0.5_0.05.yaml\n",
      "------------------------\n",
      "fl_total_participants: 200 fl_no_models: 10 fl_dirichlet_alpha: 0.5 fl_number_of_adversaries: 4 fl_lr: 0.05\n",
      "python training.py --name mnist --params /home/vishc2/tuannm/fedlearn-backdoor-attacks/exps/run_mnist__2023.Nov.24/mnist_fed_200_10_4_0.5_0.05.yaml\n",
      "------------------------\n",
      "863 <class 'str'>\n",
      "fl_total_participants: 100 fl_no_models: 10 fl_dirichlet_alpha: 0.5 fl_number_of_adversaries: 4 fl_lr: 0.05\n",
      "python training.py --name tiny-imagenet --params /home/vishc2/tuannm/fedlearn-backdoor-attacks/exps/run_tiny-imagenet__2023.Nov.24/tiny-imagenet_fed_100_10_4_0.5_0.05.yaml\n",
      "------------------------\n",
      "fl_total_participants: 200 fl_no_models: 10 fl_dirichlet_alpha: 0.5 fl_number_of_adversaries: 4 fl_lr: 0.05\n",
      "python training.py --name tiny-imagenet --params /home/vishc2/tuannm/fedlearn-backdoor-attacks/exps/run_tiny-imagenet__2023.Nov.24/tiny-imagenet_fed_200_10_4_0.5_0.05.yaml\n",
      "------------------------\n"
     ]
    }
   ],
   "source": [
    "import os\n",
    "from datetime import datetime\n",
    "\n",
    "\n",
    "def generate_exps_file(root_file='/home/vishc2/tuannm/fedlearn-backdoor-attacks/exps/cifar_fed.yaml', name_exp = 'cifar10', EXPS_DIR=\"/home/vishc2/tuannm/fedlearn-backdoor-attacks/exps/extras\"):\n",
    "    # read file as a string\n",
    "    print(f'reading from root_file: {root_file}')\n",
    "    with open(root_file, 'r') as file :\n",
    "        filedata = file.read()\n",
    "    fl_total_participants_choices = [100, 200]\n",
    "    fl_no_models_choices = [10]\n",
    "    fl_dirichlet_alpha_choices = [0.5]\n",
    "    fl_number_of_adversaries_choices = [4]\n",
    "    fl_lr_choices = [0.05]\n",
    "    # EXPS_DIR = '/home/vishc2/tuannm/fedlearn-backdoor-attacks/exps/extras'\n",
    "    \n",
    "    os.makedirs(EXPS_DIR, exist_ok=True)\n",
    "\n",
    "    for fl_total_participants in fl_total_participants_choices:\n",
    "        for fl_no_models in fl_no_models_choices:\n",
    "            for fl_dirichlet_alpha in fl_dirichlet_alpha_choices:\n",
    "                for fl_number_of_adversaries in fl_number_of_adversaries_choices:\n",
    "                    for fl_lr in fl_lr_choices:\n",
    "                        print(f'fl_total_participants: {fl_total_participants} fl_no_models: {fl_no_models} fl_dirichlet_alpha: {fl_dirichlet_alpha} fl_number_of_adversaries: {fl_number_of_adversaries} fl_lr: {fl_lr}')\n",
    "                        filedata = filedata.replace('fl_total_participants: 100', f'fl_total_participants: {fl_total_participants}')\n",
    "                        filedata = filedata.replace('fl_no_models: 10', f'fl_no_models: {fl_no_models}')\n",
    "                        filedata = filedata.replace('fl_dirichlet_alpha: 0.5', f'fl_dirichlet_alpha: {fl_dirichlet_alpha}')\n",
    "                        filedata = filedata.replace('fl_number_of_adversaries: 4', f'fl_number_of_adversaries: {fl_number_of_adversaries}')\n",
    "                        filedata = filedata.replace('lr: 0.005', f'lr: {fl_lr}')\n",
    "                        # print(len(filedata), type(filedata))  \n",
    "                        # print('------------------------')\n",
    "                        # write the file out again\n",
    "                        fn_write = f'{EXPS_DIR}/{name_exp}_fed_{fl_total_participants}_{fl_no_models}_{fl_number_of_adversaries}_{fl_dirichlet_alpha}_{fl_lr}.yaml'\n",
    "                        if not os.path.exists(fn_write):\n",
    "                            with open(fn_write, 'w') as file:\n",
    "                                file.write(filedata)\n",
    "                            \n",
    "                        cmd = f'python training.py --name {name_exp} --params {fn_write}'\n",
    "                        print(cmd)\n",
    "                        print('------------------------')\n",
    "\n",
    "current_time = datetime.now().strftime('%Y.%b.%d')\n",
    "\n",
    "generate_exps_file(root_file='/home/vishc2/tuannm/fedlearn-backdoor-attacks/exps/cifar_fed.yaml', \n",
    "                   name_exp = 'cifar10', \n",
    "                   EXPS_DIR=f\"/home/vishc2/tuannm/fedlearn-backdoor-attacks/exps/run_cifar10__{current_time}\")\n",
    "\n",
    "\n",
    "generate_exps_file(root_file='/home/vishc2/tuannm/fedlearn-backdoor-attacks/exps/mnist_fed.yaml', \n",
    "                   name_exp = 'mnist', \n",
    "                   EXPS_DIR=f\"/home/vishc2/tuannm/fedlearn-backdoor-attacks/exps/run_mnist__{current_time}\")\n",
    "\n",
    "generate_exps_file(root_file='/home/vishc2/tuannm/fedlearn-backdoor-attacks/exps/imagenet_fed.yaml', \n",
    "                   name_exp = 'tiny-imagenet', \n",
    "                   EXPS_DIR=f\"/home/vishc2/tuannm/fedlearn-backdoor-attacks/exps/run_tiny-imagenet__{current_time}\")\n",
    "\n"
   ]
  },
  {
   "cell_type": "code",
   "execution_count": null,
   "metadata": {},
   "outputs": [],
   "source": []
  }
 ],
 "metadata": {
  "kernelspec": {
   "display_name": "cardio",
   "language": "python",
   "name": "python3"
  },
  "language_info": {
   "codemirror_mode": {
    "name": "ipython",
    "version": 3
   },
   "file_extension": ".py",
   "mimetype": "text/x-python",
   "name": "python",
   "nbconvert_exporter": "python",
   "pygments_lexer": "ipython3",
   "version": "3.7.13"
  },
  "orig_nbformat": 4
 },
 "nbformat": 4,
 "nbformat_minor": 2
}
